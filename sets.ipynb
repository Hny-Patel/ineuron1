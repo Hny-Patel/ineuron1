{
  "nbformat": 4,
  "nbformat_minor": 0,
  "metadata": {
    "colab": {
      "name": "sets.ipynb",
      "provenance": [],
      "authorship_tag": "ABX9TyMNvwN3Jq5K/WBAuA+3x/+v",
      "include_colab_link": true
    },
    "kernelspec": {
      "name": "python3",
      "display_name": "Python 3"
    }
  },
  "cells": [
    {
      "cell_type": "markdown",
      "metadata": {
        "id": "view-in-github",
        "colab_type": "text"
      },
      "source": [
        "<a href=\"https://colab.research.google.com/github/Hny-Patel/ineuron1/blob/main/sets.ipynb\" target=\"_parent\"><img src=\"https://colab.research.google.com/assets/colab-badge.svg\" alt=\"Open In Colab\"/></a>"
      ]
    },
    {
      "cell_type": "markdown",
      "metadata": {
        "id": "KDBDMkl1a1fm"
      },
      "source": [
        "### **SET**"
      ]
    },
    {
      "cell_type": "code",
      "metadata": {
        "id": "xBkCFyMEYgsu"
      },
      "source": [
        "s = {1,1,1,2,2,5,5,3,3,3,2,4,4,4} ## we have multiple repetition of 1,2,3,4 and even 5"
      ],
      "execution_count": 1,
      "outputs": []
    },
    {
      "cell_type": "code",
      "metadata": {
        "colab": {
          "base_uri": "https://localhost:8080/"
        },
        "id": "RvCa2Crfbczk",
        "outputId": "50df2638-c305-4a1d-c47b-f4e59dfb5657"
      },
      "source": [
        "type(s)"
      ],
      "execution_count": 2,
      "outputs": [
        {
          "output_type": "execute_result",
          "data": {
            "text/plain": [
              "set"
            ]
          },
          "metadata": {
            "tags": []
          },
          "execution_count": 2
        }
      ]
    },
    {
      "cell_type": "code",
      "metadata": {
        "colab": {
          "base_uri": "https://localhost:8080/"
        },
        "id": "Zf2qj-yKbeZp",
        "outputId": "8c5f2587-fbfd-4472-87e7-02fa471d12f9"
      },
      "source": [
        "s ## but in output we only get ubique value"
      ],
      "execution_count": 3,
      "outputs": [
        {
          "output_type": "execute_result",
          "data": {
            "text/plain": [
              "{1, 2, 3, 4, 5}"
            ]
          },
          "metadata": {
            "tags": []
          },
          "execution_count": 3
        }
      ]
    },
    {
      "cell_type": "markdown",
      "metadata": {
        "id": "XnN2zugrb_VX"
      },
      "source": [
        "A set is data structure which can ignore the duplicate value."
      ]
    },
    {
      "cell_type": "code",
      "metadata": {
        "id": "LCrf9xWQo1rr"
      },
      "source": [
        "## Give an example of set is unorder collection"
      ],
      "execution_count": 47,
      "outputs": []
    },
    {
      "cell_type": "code",
      "metadata": {
        "id": "FAEhPmj5bjEJ"
      },
      "source": [
        "c = {'he', 'he' ,'is' ,'is', 'a', 'a', 'a', 'boy' ,'boy', 'and', 'and', 'name', 'name', 'is', 'is' ,'Hiren', 'Hiren', '@@','##','Patel...', 'Patel...'}"
      ],
      "execution_count": 52,
      "outputs": []
    },
    {
      "cell_type": "code",
      "metadata": {
        "colab": {
          "base_uri": "https://localhost:8080/"
        },
        "id": "BUPbx07Wc0tQ",
        "outputId": "84b6ca89-90f8-403d-d97d-e75aab32d5b7"
      },
      "source": [
        "c"
      ],
      "execution_count": 53,
      "outputs": [
        {
          "output_type": "execute_result",
          "data": {
            "text/plain": [
              "{'##', '@@', 'Hiren', 'Patel...', 'a', 'and', 'boy', 'he', 'is', 'name'}"
            ]
          },
          "metadata": {
            "tags": []
          },
          "execution_count": 53
        }
      ]
    },
    {
      "cell_type": "code",
      "metadata": {
        "id": "YApS6O4kc1tF"
      },
      "source": [
        "## set is hetrogeneous or homogeneous? let's check"
      ],
      "execution_count": 16,
      "outputs": []
    },
    {
      "cell_type": "code",
      "metadata": {
        "id": "A1A7eCKEfFUn"
      },
      "source": [
        "hetro = {'string',3.44,6+7j,2541}"
      ],
      "execution_count": 18,
      "outputs": []
    },
    {
      "cell_type": "code",
      "metadata": {
        "colab": {
          "base_uri": "https://localhost:8080/"
        },
        "id": "81JoXo3PfdUq",
        "outputId": "396ded4b-a264-44da-84cd-fde9019b5e1e"
      },
      "source": [
        "hetro ## works fine with all data types so it is hetrogeneous"
      ],
      "execution_count": 20,
      "outputs": [
        {
          "output_type": "execute_result",
          "data": {
            "text/plain": [
              "{(6+7j), 2541, 3.44, 'string'}"
            ]
          },
          "metadata": {
            "tags": []
          },
          "execution_count": 20
        }
      ]
    },
    {
      "cell_type": "code",
      "metadata": {
        "id": "BERyr7zIfh5u"
      },
      "source": [
        "## How you can access set??"
      ],
      "execution_count": 21,
      "outputs": []
    },
    {
      "cell_type": "code",
      "metadata": {
        "colab": {
          "base_uri": "https://localhost:8080/",
          "height": 164
        },
        "id": "Wf3DeoYBh7T_",
        "outputId": "c619acc4-ca3c-4c01-bcb8-63ee21987936"
      },
      "source": [
        "hetro[0] ##set is not subscriptable"
      ],
      "execution_count": 23,
      "outputs": [
        {
          "output_type": "error",
          "ename": "TypeError",
          "evalue": "ignored",
          "traceback": [
            "\u001b[0;31m---------------------------------------------------------------------------\u001b[0m",
            "\u001b[0;31mTypeError\u001b[0m                                 Traceback (most recent call last)",
            "\u001b[0;32m<ipython-input-23-df42fa43a5a6>\u001b[0m in \u001b[0;36m<module>\u001b[0;34m()\u001b[0m\n\u001b[0;32m----> 1\u001b[0;31m \u001b[0mhetro\u001b[0m\u001b[0;34m[\u001b[0m\u001b[0;36m0\u001b[0m\u001b[0;34m]\u001b[0m \u001b[0;31m##set is not subscriptable\u001b[0m\u001b[0;34m\u001b[0m\u001b[0;34m\u001b[0m\u001b[0m\n\u001b[0m",
            "\u001b[0;31mTypeError\u001b[0m: 'set' object is not subscriptable"
          ]
        }
      ]
    },
    {
      "cell_type": "code",
      "metadata": {
        "id": "TRp5c4gTiBpH"
      },
      "source": [
        "## Let's try another way to access set"
      ],
      "execution_count": 25,
      "outputs": []
    },
    {
      "cell_type": "code",
      "metadata": {
        "colab": {
          "base_uri": "https://localhost:8080/",
          "height": 164
        },
        "id": "ZJvq3SSKiOJu",
        "outputId": "3b82f1d2-65e6-4257-832d-05cda8133355"
      },
      "source": [
        "hetro(0)"
      ],
      "execution_count": 26,
      "outputs": [
        {
          "output_type": "error",
          "ename": "TypeError",
          "evalue": "ignored",
          "traceback": [
            "\u001b[0;31m---------------------------------------------------------------------------\u001b[0m",
            "\u001b[0;31mTypeError\u001b[0m                                 Traceback (most recent call last)",
            "\u001b[0;32m<ipython-input-26-9af2be467d90>\u001b[0m in \u001b[0;36m<module>\u001b[0;34m()\u001b[0m\n\u001b[0;32m----> 1\u001b[0;31m \u001b[0mhetro\u001b[0m\u001b[0;34m(\u001b[0m\u001b[0;36m0\u001b[0m\u001b[0;34m)\u001b[0m\u001b[0;34m\u001b[0m\u001b[0;34m\u001b[0m\u001b[0m\n\u001b[0m",
            "\u001b[0;31mTypeError\u001b[0m: 'set' object is not callable"
          ]
        }
      ]
    },
    {
      "cell_type": "code",
      "metadata": {
        "id": "45OWeiGxiT7W"
      },
      "source": [
        "## Now let's check for loop can iteration possible or not"
      ],
      "execution_count": 56,
      "outputs": []
    },
    {
      "cell_type": "code",
      "metadata": {
        "colab": {
          "base_uri": "https://localhost:8080/"
        },
        "id": "5lqDrGiQiXzB",
        "outputId": "7ae0130f-abee-4204-d354-793ff4e3942c"
      },
      "source": [
        "for i in hetro:\r\n",
        "  print(i)"
      ],
      "execution_count": 55,
      "outputs": [
        {
          "output_type": "stream",
          "text": [
            "string\n",
            "3.44\n",
            "2541\n",
            "(6+7j)\n"
          ],
          "name": "stdout"
        }
      ]
    },
    {
      "cell_type": "code",
      "metadata": {
        "id": "haveIzkMiuGg"
      },
      "source": [
        "## Yes!! for loop iteration is possible"
      ],
      "execution_count": 30,
      "outputs": []
    },
    {
      "cell_type": "code",
      "metadata": {
        "id": "ZPRtmQf7i1Ts"
      },
      "source": [
        "## what if we want only one variable from the set?"
      ],
      "execution_count": 31,
      "outputs": []
    },
    {
      "cell_type": "code",
      "metadata": {
        "id": "x-QU74HGkRLQ"
      },
      "source": [
        "one = {1,2,2,3,4,5,6,6}"
      ],
      "execution_count": 32,
      "outputs": []
    },
    {
      "cell_type": "code",
      "metadata": {
        "colab": {
          "base_uri": "https://localhost:8080/"
        },
        "id": "VU0Izo1dkZto",
        "outputId": "125e37d2-e727-408e-9b4d-73fb080687b7"
      },
      "source": [
        "one"
      ],
      "execution_count": 33,
      "outputs": [
        {
          "output_type": "execute_result",
          "data": {
            "text/plain": [
              "{1, 2, 3, 4, 5, 6}"
            ]
          },
          "metadata": {
            "tags": []
          },
          "execution_count": 33
        }
      ]
    },
    {
      "cell_type": "code",
      "metadata": {
        "id": "iYCQUcfWkbJc"
      },
      "source": [
        "in_list = list(one)"
      ],
      "execution_count": 34,
      "outputs": []
    },
    {
      "cell_type": "code",
      "metadata": {
        "colab": {
          "base_uri": "https://localhost:8080/"
        },
        "id": "8u0f9gaekjZQ",
        "outputId": "4aaf1c93-10ff-439f-ae69-0ca6dbf2e0d7"
      },
      "source": [
        "in_list[5]"
      ],
      "execution_count": 38,
      "outputs": [
        {
          "output_type": "execute_result",
          "data": {
            "text/plain": [
              "6"
            ]
          },
          "metadata": {
            "tags": []
          },
          "execution_count": 38
        }
      ]
    },
    {
      "cell_type": "code",
      "metadata": {
        "id": "xAXIHYDqkmHL"
      },
      "source": [
        "one = set(one)"
      ],
      "execution_count": 39,
      "outputs": []
    },
    {
      "cell_type": "code",
      "metadata": {
        "id": "y2EgKXtwkx3X"
      },
      "source": [
        "## can we add elements in to the set?"
      ],
      "execution_count": 40,
      "outputs": []
    },
    {
      "cell_type": "code",
      "metadata": {
        "id": "5wBki0Eblg7R"
      },
      "source": [
        "one.add('Hiren')"
      ],
      "execution_count": 41,
      "outputs": []
    },
    {
      "cell_type": "code",
      "metadata": {
        "colab": {
          "base_uri": "https://localhost:8080/"
        },
        "id": "QyT5aeiFllAZ",
        "outputId": "6c2e6a85-1553-424c-e880-e15b9626276e"
      },
      "source": [
        "one ##yes we can add element in set"
      ],
      "execution_count": 43,
      "outputs": [
        {
          "output_type": "execute_result",
          "data": {
            "text/plain": [
              "{1, 2, 3, 4, 5, 6, 'Hiren'}"
            ]
          },
          "metadata": {
            "tags": []
          },
          "execution_count": 43
        }
      ]
    },
    {
      "cell_type": "code",
      "metadata": {
        "id": "eo17oFnqlm3g"
      },
      "source": [
        "## can you delete data from set?"
      ],
      "execution_count": 44,
      "outputs": []
    },
    {
      "cell_type": "code",
      "metadata": {
        "colab": {
          "base_uri": "https://localhost:8080/"
        },
        "id": "_lthvrevm-_x",
        "outputId": "e18339eb-c780-4f6c-99eb-abb80671c1fe"
      },
      "source": [
        "one.pop()"
      ],
      "execution_count": 45,
      "outputs": [
        {
          "output_type": "execute_result",
          "data": {
            "text/plain": [
              "1"
            ]
          },
          "metadata": {
            "tags": []
          },
          "execution_count": 45
        }
      ]
    },
    {
      "cell_type": "code",
      "metadata": {
        "colab": {
          "base_uri": "https://localhost:8080/"
        },
        "id": "aK8LY-K4nB1k",
        "outputId": "d08a3968-b544-4fa7-9519-597469dd6980"
      },
      "source": [
        "one"
      ],
      "execution_count": 46,
      "outputs": [
        {
          "output_type": "execute_result",
          "data": {
            "text/plain": [
              "{2, 3, 4, 5, 6, 'Hiren'}"
            ]
          },
          "metadata": {
            "tags": []
          },
          "execution_count": 46
        }
      ]
    },
    {
      "cell_type": "code",
      "metadata": {
        "id": "WdYQVH6JnDzo"
      },
      "source": [
        ""
      ],
      "execution_count": null,
      "outputs": []
    }
  ]
}