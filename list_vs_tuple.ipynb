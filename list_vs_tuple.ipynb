{
  "nbformat": 4,
  "nbformat_minor": 0,
  "metadata": {
    "colab": {
      "name": "list vs tuple.ipynb",
      "provenance": [],
      "collapsed_sections": [],
      "authorship_tag": "ABX9TyPN/4VSixtmfSmxDyCO21Ln",
      "include_colab_link": true
    },
    "kernelspec": {
      "name": "python3",
      "display_name": "Python 3"
    }
  },
  "cells": [
    {
      "cell_type": "markdown",
      "metadata": {
        "id": "view-in-github",
        "colab_type": "text"
      },
      "source": [
        "<a href=\"https://colab.research.google.com/github/Hny-Patel/ineuron1/blob/main/list_vs_tuple.ipynb\" target=\"_parent\"><img src=\"https://colab.research.google.com/assets/colab-badge.svg\" alt=\"Open In Colab\"/></a>"
      ]
    },
    {
      "cell_type": "markdown",
      "metadata": {
        "id": "jxh_fZD1l7ER"
      },
      "source": [
        "**List**"
      ]
    },
    {
      "cell_type": "code",
      "metadata": {
        "id": "P9qynyKTgSJj"
      },
      "source": [
        "l = [7,8,8,'Honey']"
      ],
      "execution_count": 1,
      "outputs": []
    },
    {
      "cell_type": "code",
      "metadata": {
        "colab": {
          "base_uri": "https://localhost:8080/"
        },
        "id": "De9ZsgnOg4-0",
        "outputId": "85412eb8-1753-468a-adad-2df29e99a86b"
      },
      "source": [
        "print(l)"
      ],
      "execution_count": 3,
      "outputs": [
        {
          "output_type": "stream",
          "text": [
            "[7, 8, 8, 'Honey']\n"
          ],
          "name": "stdout"
        }
      ]
    },
    {
      "cell_type": "code",
      "metadata": {
        "colab": {
          "base_uri": "https://localhost:8080/"
        },
        "id": "dZfgRx84hvqg",
        "outputId": "fc702866-08fb-47e9-fd4e-a20468f5f279"
      },
      "source": [
        "l[::-1]"
      ],
      "execution_count": 17,
      "outputs": [
        {
          "output_type": "execute_result",
          "data": {
            "text/plain": [
              "['Honey', 8, 8, 7]"
            ]
          },
          "metadata": {
            "tags": []
          },
          "execution_count": 17
        }
      ]
    },
    {
      "cell_type": "code",
      "metadata": {
        "id": "gAlD6doxkEfk"
      },
      "source": [
        "l[0]= 'Patel' ## we can reassign the value $$Mutable"
      ],
      "execution_count": 28,
      "outputs": []
    },
    {
      "cell_type": "code",
      "metadata": {
        "colab": {
          "base_uri": "https://localhost:8080/"
        },
        "id": "yaVU8BFBkKqJ",
        "outputId": "9bc5121d-c177-47d3-9dac-440d933310cf"
      },
      "source": [
        "l"
      ],
      "execution_count": 22,
      "outputs": [
        {
          "output_type": "execute_result",
          "data": {
            "text/plain": [
              "['Patel', 8, 8, 'Honey']"
            ]
          },
          "metadata": {
            "tags": []
          },
          "execution_count": 22
        }
      ]
    },
    {
      "cell_type": "code",
      "metadata": {
        "colab": {
          "base_uri": "https://localhost:8080/"
        },
        "id": "XaT2vMLunJJG",
        "outputId": "54b3a853-6268-4016-ed1c-178472db6f22"
      },
      "source": [
        "for i in l: ##in List it is itreate one by one\r\n",
        "  print(i)"
      ],
      "execution_count": 30,
      "outputs": [
        {
          "output_type": "stream",
          "text": [
            "Patel\n",
            "8\n",
            "8\n",
            "Honey\n"
          ],
          "name": "stdout"
        }
      ]
    },
    {
      "cell_type": "markdown",
      "metadata": {
        "id": "V9_p3juwlyOz"
      },
      "source": [
        "**Tuple**"
      ]
    },
    {
      "cell_type": "code",
      "metadata": {
        "id": "Up_S5aIKgWNo"
      },
      "source": [
        "t = (1,2,3,4,5, 4+5j, 'Hny') "
      ],
      "execution_count": 7,
      "outputs": []
    },
    {
      "cell_type": "code",
      "metadata": {
        "colab": {
          "base_uri": "https://localhost:8080/"
        },
        "id": "oQ2DhXyMg3iw",
        "outputId": "fc0e3a15-55a9-4d9e-bec7-c06987ce55e5"
      },
      "source": [
        "print(t)"
      ],
      "execution_count": 8,
      "outputs": [
        {
          "output_type": "stream",
          "text": [
            "(1, 2, 3, 4, 5, (4+5j), 'Hny')\n"
          ],
          "name": "stdout"
        }
      ]
    },
    {
      "cell_type": "code",
      "metadata": {
        "colab": {
          "base_uri": "https://localhost:8080/",
          "height": 35
        },
        "id": "9ge1x-Rlg9dW",
        "outputId": "6466f8f7-dc31-45d9-e12d-8c0cabfe25bb"
      },
      "source": [
        "t[-1]"
      ],
      "execution_count": 18,
      "outputs": [
        {
          "output_type": "execute_result",
          "data": {
            "application/vnd.google.colaboratory.intrinsic+json": {
              "type": "string"
            },
            "text/plain": [
              "'Hny'"
            ]
          },
          "metadata": {
            "tags": []
          },
          "execution_count": 18
        }
      ]
    },
    {
      "cell_type": "code",
      "metadata": {
        "colab": {
          "base_uri": "https://localhost:8080/"
        },
        "id": "Vtd3mwbZixcY",
        "outputId": "518c33ed-9e38-4bca-e204-02d40a7399e7"
      },
      "source": [
        "t[::-1]"
      ],
      "execution_count": 19,
      "outputs": [
        {
          "output_type": "execute_result",
          "data": {
            "text/plain": [
              "('Hny', (4+5j), 5, 4, 3, 2, 1)"
            ]
          },
          "metadata": {
            "tags": []
          },
          "execution_count": 19
        }
      ]
    },
    {
      "cell_type": "code",
      "metadata": {
        "colab": {
          "base_uri": "https://localhost:8080/"
        },
        "id": "FKufuHDai1Jt",
        "outputId": "f7d46bac-1e75-4136-a3a0-e0d69ee1e35a"
      },
      "source": [
        "len(t)"
      ],
      "execution_count": 20,
      "outputs": [
        {
          "output_type": "execute_result",
          "data": {
            "text/plain": [
              "7"
            ]
          },
          "metadata": {
            "tags": []
          },
          "execution_count": 20
        }
      ]
    },
    {
      "cell_type": "code",
      "metadata": {
        "colab": {
          "base_uri": "https://localhost:8080/"
        },
        "id": "zvPnSH8djBO8",
        "outputId": "e36863f7-d936-49d3-aa4c-f19bd35f4c3f"
      },
      "source": [
        "t"
      ],
      "execution_count": 33,
      "outputs": [
        {
          "output_type": "execute_result",
          "data": {
            "text/plain": [
              "(1, 2, 3, 4, 5, (4+5j), 'Hny')"
            ]
          },
          "metadata": {
            "tags": []
          },
          "execution_count": 33
        }
      ]
    },
    {
      "cell_type": "code",
      "metadata": {
        "colab": {
          "base_uri": "https://localhost:8080/",
          "height": 164
        },
        "id": "sdM57T9qkReU",
        "outputId": "07145557-d259-46a2-88fe-5cfd38ea7e0e"
      },
      "source": [
        "t[0] = 'patel' ##reassignment not possible in tuple $$Immutable"
      ],
      "execution_count": 27,
      "outputs": [
        {
          "output_type": "error",
          "ename": "TypeError",
          "evalue": "ignored",
          "traceback": [
            "\u001b[0;31m---------------------------------------------------------------------------\u001b[0m",
            "\u001b[0;31mTypeError\u001b[0m                                 Traceback (most recent call last)",
            "\u001b[0;32m<ipython-input-27-cdc931fd8a8a>\u001b[0m in \u001b[0;36m<module>\u001b[0;34m()\u001b[0m\n\u001b[0;32m----> 1\u001b[0;31m \u001b[0mt\u001b[0m\u001b[0;34m[\u001b[0m\u001b[0;36m0\u001b[0m\u001b[0;34m]\u001b[0m \u001b[0;34m=\u001b[0m \u001b[0;34m'patel'\u001b[0m \u001b[0;31m##reassignment not possible in tuple\u001b[0m\u001b[0;34m\u001b[0m\u001b[0;34m\u001b[0m\u001b[0m\n\u001b[0m",
            "\u001b[0;31mTypeError\u001b[0m: 'tuple' object does not support item assignment"
          ]
        }
      ]
    },
    {
      "cell_type": "code",
      "metadata": {
        "id": "g3OdKrajpuf4"
      },
      "source": [
        "t = (3,4,5,6,7,8)"
      ],
      "execution_count": 40,
      "outputs": []
    },
    {
      "cell_type": "code",
      "metadata": {
        "colab": {
          "base_uri": "https://localhost:8080/"
        },
        "id": "deDBWl9KkS4A",
        "outputId": "5112850d-c407-49cf-d14a-3b4471640e3d"
      },
      "source": [
        "for i in t:\r\n",
        "  if (i%2) == 0:\r\n",
        "    print('Even:', i)\r\n",
        "  else:\r\n",
        "    print('odd:', i)"
      ],
      "execution_count": 51,
      "outputs": [
        {
          "output_type": "stream",
          "text": [
            "odd: 3\n",
            "Even: 4\n",
            "odd: 5\n",
            "Even: 6\n",
            "odd: 7\n",
            "Even: 8\n"
          ],
          "name": "stdout"
        }
      ]
    },
    {
      "cell_type": "code",
      "metadata": {
        "colab": {
          "base_uri": "https://localhost:8080/"
        },
        "id": "_qxgZBSenmRX",
        "outputId": "df96e580-ba69-421c-def4-dc2d60f8e9c3"
      },
      "source": [
        "l"
      ],
      "execution_count": 52,
      "outputs": [
        {
          "output_type": "execute_result",
          "data": {
            "text/plain": [
              "['Patel', 8, 8, 'Honey']"
            ]
          },
          "metadata": {
            "tags": []
          },
          "execution_count": 52
        }
      ]
    },
    {
      "cell_type": "code",
      "metadata": {
        "id": "wd7XwyPOFnjs"
      },
      "source": [
        "l.append('Hiren') ## append at last"
      ],
      "execution_count": 55,
      "outputs": []
    },
    {
      "cell_type": "code",
      "metadata": {
        "colab": {
          "base_uri": "https://localhost:8080/"
        },
        "id": "lZsqekYHF835",
        "outputId": "d7bd1e1a-3c18-46dc-86bd-9119160aa0dd"
      },
      "source": [
        "l "
      ],
      "execution_count": 56,
      "outputs": [
        {
          "output_type": "execute_result",
          "data": {
            "text/plain": [
              "['Patel', 8, 8, 'Honey', 'Hiren', 'Hiren']"
            ]
          },
          "metadata": {
            "tags": []
          },
          "execution_count": 56
        }
      ]
    },
    {
      "cell_type": "code",
      "metadata": {
        "id": "2LMl2O4mF91p"
      },
      "source": [
        "l.insert(2,'three') ## we can add elements in to list"
      ],
      "execution_count": 93,
      "outputs": []
    },
    {
      "cell_type": "code",
      "metadata": {
        "colab": {
          "base_uri": "https://localhost:8080/"
        },
        "id": "6kvv3dFMImcZ",
        "outputId": "8a6cabe5-e9f6-4d45-fefd-33e14939bc8d"
      },
      "source": [
        "l"
      ],
      "execution_count": 58,
      "outputs": [
        {
          "output_type": "execute_result",
          "data": {
            "text/plain": [
              "['Patel', 8, 'three', 8, 'Honey', 'Hiren', 'Hiren']"
            ]
          },
          "metadata": {
            "tags": []
          },
          "execution_count": 58
        }
      ]
    },
    {
      "cell_type": "code",
      "metadata": {
        "colab": {
          "base_uri": "https://localhost:8080/",
          "height": 35
        },
        "id": "4bVHMAoAInRe",
        "outputId": "7fa7bc3c-acb8-4a92-a6ae-e3e4e44401e0"
      },
      "source": [
        "l.pop(-1)"
      ],
      "execution_count": 59,
      "outputs": [
        {
          "output_type": "execute_result",
          "data": {
            "application/vnd.google.colaboratory.intrinsic+json": {
              "type": "string"
            },
            "text/plain": [
              "'Hiren'"
            ]
          },
          "metadata": {
            "tags": []
          },
          "execution_count": 59
        }
      ]
    },
    {
      "cell_type": "code",
      "metadata": {
        "colab": {
          "base_uri": "https://localhost:8080/"
        },
        "id": "mDaikRJXIv_B",
        "outputId": "271cb8f7-7f37-4b8a-a13f-b2332a352ba3"
      },
      "source": [
        "l"
      ],
      "execution_count": 60,
      "outputs": [
        {
          "output_type": "execute_result",
          "data": {
            "text/plain": [
              "['Patel', 8, 'three', 8, 'Honey', 'Hiren']"
            ]
          },
          "metadata": {
            "tags": []
          },
          "execution_count": 60
        }
      ]
    },
    {
      "cell_type": "code",
      "metadata": {
        "id": "jgE3bZozIxHh"
      },
      "source": [
        "l.remove(8)"
      ],
      "execution_count": 62,
      "outputs": []
    },
    {
      "cell_type": "code",
      "metadata": {
        "id": "EDajsKw2I31o"
      },
      "source": [
        "l.extend([1,2,3,4,'Hi'])"
      ],
      "execution_count": 68,
      "outputs": []
    },
    {
      "cell_type": "code",
      "metadata": {
        "colab": {
          "base_uri": "https://localhost:8080/"
        },
        "id": "VDXT43StJDOE",
        "outputId": "ec3ae394-32bd-47ba-efef-49bbde53b03e"
      },
      "source": [
        "l"
      ],
      "execution_count": 69,
      "outputs": [
        {
          "output_type": "execute_result",
          "data": {
            "text/plain": [
              "['Patel', 'three', 8, 'Honey', 'Hiren', 1, 2, 3, 4, 1, 2, 3, 4, 'Hi']"
            ]
          },
          "metadata": {
            "tags": []
          },
          "execution_count": 69
        }
      ]
    },
    {
      "cell_type": "code",
      "metadata": {
        "colab": {
          "base_uri": "https://localhost:8080/"
        },
        "id": "E3XsS59mJOHg",
        "outputId": "7388d4f3-2614-4bf5-a2fe-b238fa1521d9"
      },
      "source": [
        "t"
      ],
      "execution_count": 70,
      "outputs": [
        {
          "output_type": "execute_result",
          "data": {
            "text/plain": [
              "(3, 4, 5, 6, 7, 8)"
            ]
          },
          "metadata": {
            "tags": []
          },
          "execution_count": 70
        }
      ]
    },
    {
      "cell_type": "code",
      "metadata": {
        "id": "08reJht4ToVP"
      },
      "source": [
        "##as we know tuple has only 2 methods called count and index. can we append tuple with tuples? let's check"
      ],
      "execution_count": 71,
      "outputs": []
    },
    {
      "cell_type": "code",
      "metadata": {
        "id": "tw_OVl6eT0sm"
      },
      "source": [
        "t2 = (7,8,9,10)"
      ],
      "execution_count": 72,
      "outputs": []
    },
    {
      "cell_type": "code",
      "metadata": {
        "colab": {
          "base_uri": "https://localhost:8080/"
        },
        "id": "DlT40-JmT54a",
        "outputId": "5499d024-143c-4b2b-962b-3c3d7b1c25f5"
      },
      "source": [
        "t = t + t2 ##yes we can. but what of I want to add my name in between the tuple? can we do that too?\r\n",
        "t"
      ],
      "execution_count": 77,
      "outputs": [
        {
          "output_type": "execute_result",
          "data": {
            "text/plain": [
              "(3, 4, 5, 6, 7, 8, 7, 8, 9, 10, 7, 8, 9, 10)"
            ]
          },
          "metadata": {
            "tags": []
          },
          "execution_count": 77
        }
      ]
    },
    {
      "cell_type": "code",
      "metadata": {
        "id": "x5_lnwWjT7p5"
      },
      "source": [
        "# No, we can't. but what if we want to"
      ],
      "execution_count": 78,
      "outputs": []
    },
    {
      "cell_type": "code",
      "metadata": {
        "id": "xj_YGx4BUML-"
      },
      "source": [
        "##here is the solution"
      ],
      "execution_count": 79,
      "outputs": []
    },
    {
      "cell_type": "code",
      "metadata": {
        "id": "M7J3yTEbUhdw"
      },
      "source": [
        "t = list(t) ## convert tuple in to the list"
      ],
      "execution_count": 86,
      "outputs": []
    },
    {
      "cell_type": "code",
      "metadata": {
        "id": "PDBTTqwKUtU_"
      },
      "source": [
        "t.insert(2,'Hiren') ## add the  required elements"
      ],
      "execution_count": 87,
      "outputs": []
    },
    {
      "cell_type": "code",
      "metadata": {
        "id": "Lg41UADPUx4U"
      },
      "source": [
        "t = tuple(t) ## cast again in tuple"
      ],
      "execution_count": 91,
      "outputs": []
    },
    {
      "cell_type": "code",
      "metadata": {
        "colab": {
          "base_uri": "https://localhost:8080/"
        },
        "id": "FZIVwNYoVEHz",
        "outputId": "6cdc43e3-92a3-4abd-d64a-f13d3be86e59"
      },
      "source": [
        "t"
      ],
      "execution_count": 92,
      "outputs": [
        {
          "output_type": "execute_result",
          "data": {
            "text/plain": [
              "(3, 4, 'Hiren', 5, 6, 7, 8, 7, 8, 9, 10, 7, 8, 9, 10)"
            ]
          },
          "metadata": {
            "tags": []
          },
          "execution_count": 92
        }
      ]
    },
    {
      "cell_type": "code",
      "metadata": {
        "id": "qS4MoyEdVJie"
      },
      "source": [
        ""
      ],
      "execution_count": null,
      "outputs": []
    }
  ]
}